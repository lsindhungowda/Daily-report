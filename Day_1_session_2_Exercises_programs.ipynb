{
  "nbformat": 4,
  "nbformat_minor": 0,
  "metadata": {
    "colab": {
      "name": "Day 1 session 2 Exercises programs.ipynb",
      "provenance": [],
      "collapsed_sections": [],
      "authorship_tag": "ABX9TyP4qTaNFg3UJe0l+8SH1spt",
      "include_colab_link": true
    },
    "kernelspec": {
      "name": "python3",
      "display_name": "Python 3"
    }
  },
  "cells": [
    {
      "cell_type": "markdown",
      "metadata": {
        "id": "view-in-github",
        "colab_type": "text"
      },
      "source": [
        "<a href=\"https://colab.research.google.com/github/lsindhungowda/Daily-report/blob/master/Day_1_session_2_Exercises_programs.ipynb\" target=\"_parent\"><img src=\"https://colab.research.google.com/assets/colab-badge.svg\" alt=\"Open In Colab\"/></a>"
      ]
    },
    {
      "cell_type": "markdown",
      "metadata": {
        "id": "28sQHif5Q9C0",
        "colab_type": "text"
      },
      "source": [
        "1 Enter number 5\n",
        "\n",
        "5 4 3 2 1\n",
        "4 3 2 1\n",
        "3 2 1\n",
        "2 1\n",
        "1\n",
        "\n"
      ]
    },
    {
      "cell_type": "code",
      "metadata": {
        "id": "HtbODSvUQ7YG",
        "colab_type": "code",
        "outputId": "3a8f51f0-2430-446e-bb8c-b2fc7425920b",
        "colab": {
          "base_uri": "https://localhost:8080/",
          "height": 118
        }
      },
      "source": [
        "rows = 5\n",
        "for i in range(0, rows + 1):\n",
        "    for j in range(rows - i, 0, -1):\n",
        "        print(j, end=' ')\n",
        "    print()"
      ],
      "execution_count": 0,
      "outputs": [
        {
          "output_type": "stream",
          "text": [
            "5 4 3 2 1 \n",
            "4 3 2 1 \n",
            "3 2 1 \n",
            "2 1 \n",
            "1 \n",
            "\n"
          ],
          "name": "stdout"
        }
      ]
    },
    {
      "cell_type": "markdown",
      "metadata": {
        "id": "kJEFfZsRtlwR",
        "colab_type": "text"
      },
      "source": [
        "2. Write a program to print the triangle \n",
        "i/p  4\n",
        "\n",
        "1\n",
        "2    3\n",
        "3    4   5\n",
        "4    5   6   7\n"
      ]
    },
    {
      "cell_type": "code",
      "metadata": {
        "id": "DB-AB2rJtYe_",
        "colab_type": "code",
        "outputId": "3b9ea23e-9326-413e-96b2-0fff67f1f257",
        "colab": {
          "base_uri": "https://localhost:8080/",
          "height": 50
        }
      },
      "source": [
        "k=1\n",
        "n=int(input(\"enter n value: \")) \n",
        "for i in range(0,n):\n",
        "  if(i>=2): \n",
        "    k=i+1\n",
        "for j in range(0,i+1):\n",
        "   print(k,end=\" \")\n",
        "   k=k+1 \n",
        "print()\n"
      ],
      "execution_count": 0,
      "outputs": [
        {
          "output_type": "stream",
          "text": [
            "enter n value: 4\n",
            "4 5 6 7 \n"
          ],
          "name": "stdout"
        }
      ]
    },
    {
      "cell_type": "markdown",
      "metadata": {
        "id": "QoGwD8ZnuaLU",
        "colab_type": "text"
      },
      "source": [
        "3. Enter number 5\n",
        "\n",
        "5\n",
        "4 5\n",
        "3 4 5\n",
        "2 3 4 5\n",
        "1 2 3 4 5\n"
      ]
    },
    {
      "cell_type": "code",
      "metadata": {
        "id": "_crR15AkuJ3s",
        "colab_type": "code",
        "outputId": "d8aa00c9-a2dd-4f13-dfd6-84ddc16189c4",
        "colab": {
          "base_uri": "https://localhost:8080/",
          "height": 50
        }
      },
      "source": [
        "k=4\n",
        "n=int(input(\"enter n value: \"))\n",
        "for i in range(n+1,0,-1):\n",
        "  for j in range(i,n+1): \n",
        "    print(j,end=\" \")\n",
        "print()\n"
      ],
      "execution_count": 0,
      "outputs": [
        {
          "output_type": "stream",
          "text": [
            "enter n value: 5\n",
            "5 4 5 3 4 5 2 3 4 5 1 2 3 4 5 \n"
          ],
          "name": "stdout"
        }
      ]
    },
    {
      "cell_type": "markdown",
      "metadata": {
        "id": "bvDcpBYKvNl3",
        "colab_type": "text"
      },
      "source": [
        "4. Enter number 4\n",
        "\n",
        "1 2 3 4\n",
        "2 3 4\n",
        "3 4\n",
        "4\n",
        "3 4\n",
        "2 3 4\n",
        "1 2 3 4\n"
      ]
    },
    {
      "cell_type": "code",
      "metadata": {
        "id": "uJIvobAVu-UY",
        "colab_type": "code",
        "outputId": "1339fef5-ecd5-4e13-b5c8-0ace7f4941ad",
        "colab": {
          "base_uri": "https://localhost:8080/",
          "height": 151
        }
      },
      "source": [
        "rows = 5\n",
        "n=rows-1\n",
        "for i in range(1, rows-1): \n",
        "  for j in range(i,rows):\n",
        "    print(j,end=\" \") \n",
        "  print()\n",
        "for i in range(n+1,0,-1): \n",
        "  for j in range(i,n+1):\n",
        "    print(j,end=\" \")\n",
        "  print()\n"
      ],
      "execution_count": 0,
      "outputs": [
        {
          "output_type": "stream",
          "text": [
            "1 2 3 4 \n",
            "2 3 4 \n",
            "3 4 \n",
            "\n",
            "4 \n",
            "3 4 \n",
            "2 3 4 \n",
            "1 2 3 4 \n"
          ],
          "name": "stdout"
        }
      ]
    },
    {
      "cell_type": "markdown",
      "metadata": {
        "id": "0Wz8VskkR9ML",
        "colab_type": "text"
      },
      "source": [
        "5. Enter number 4\n",
        "\n",
        "*\n",
        "* *\n",
        "* * *\n",
        "* * * *\n"
      ]
    },
    {
      "cell_type": "code",
      "metadata": {
        "id": "P7UqqQPVR02B",
        "colab_type": "code",
        "outputId": "a73455e0-6716-47f1-d564-d3cb90bd0fc8",
        "colab": {
          "base_uri": "https://localhost:8080/",
          "height": 84
        }
      },
      "source": [
        "rows = 4\n",
        "for i in range(0, rows):\n",
        "    for j in range(0, i + 1):\n",
        "        print(\"*\", end=' ')\n",
        "\n",
        "    print(\"\\r\")"
      ],
      "execution_count": 0,
      "outputs": [
        {
          "output_type": "stream",
          "text": [
            "* \r\n",
            "* * \r\n",
            "* * * \r\n",
            "* * * * \r\n"
          ],
          "name": "stdout"
        }
      ]
    },
    {
      "cell_type": "markdown",
      "metadata": {
        "id": "iSt7TiGvTuD_",
        "colab_type": "text"
      },
      "source": [
        "6. Find the length of a string without using len functions"
      ]
    },
    {
      "cell_type": "code",
      "metadata": {
        "id": "KNE9hNSSThp1",
        "colab_type": "code",
        "outputId": "da6e04fb-2a9e-42e4-8b0a-30bfa92efbea",
        "colab": {
          "base_uri": "https://localhost:8080/",
          "height": 50
        }
      },
      "source": [
        "\n",
        "str = input(\"Enter a string: \")\n",
        "counter = 0\n",
        "for s in str:\n",
        "      counter = counter+1\n",
        "print(\"Length of the input string is:\", counter)"
      ],
      "execution_count": 0,
      "outputs": [
        {
          "output_type": "stream",
          "text": [
            "Enter a string: Shwethakhadri\n",
            "Length of the input string is: 13\n"
          ],
          "name": "stdout"
        }
      ]
    },
    {
      "cell_type": "markdown",
      "metadata": {
        "id": "--JM9CndUITx",
        "colab_type": "text"
      },
      "source": [
        "7. Find the no of words and characters in a string\n",
        "\n"
      ]
    },
    {
      "cell_type": "code",
      "metadata": {
        "id": "ndy5nymGUDGT",
        "colab_type": "code",
        "outputId": "08bf9c83-af73-4f0b-a3b8-6754bd29055b",
        "colab": {
          "base_uri": "https://localhost:8080/",
          "height": 101
        }
      },
      "source": [
        "string=input(\"Enter string:\")\n",
        "char=0\n",
        "word=1\n",
        "for i in string:\n",
        "      char=char+1\n",
        "      if(i==' '):\n",
        "            word=word+1\n",
        "print(\"Number of words in the string:\")\n",
        "print(word)\n",
        "print(\"Number of characters in the string:\")\n",
        "print(char)"
      ],
      "execution_count": 0,
      "outputs": [
        {
          "output_type": "stream",
          "text": [
            "Enter string:Shwetha Khadri\n",
            "Number of words in the string:\n",
            "2\n",
            "Number of characters in the string:\n",
            "14\n"
          ],
          "name": "stdout"
        }
      ]
    },
    {
      "cell_type": "markdown",
      "metadata": {
        "id": "kAeTwhSRVXXp",
        "colab_type": "text"
      },
      "source": [
        "8. Find the no of occurrences of a word in a string"
      ]
    },
    {
      "cell_type": "code",
      "metadata": {
        "id": "J3xdYx0_UcBM",
        "colab_type": "code",
        "outputId": "e8b108fc-df42-4ea8-f58b-47402c1085cb",
        "colab": {
          "base_uri": "https://localhost:8080/",
          "height": 34
        }
      },
      "source": [
        "def countOccurences(str, word):   \n",
        "    a = str.split(\" \") \n",
        "    count = 0\n",
        "    for i in range(0, len(a)): \n",
        "        if (word == a[i]): \n",
        "           count = count + 1       \n",
        "    return count        \n",
        "str =\"python is very easy to learn and python is dynamically typed \"\n",
        "word =\"python\"\n",
        "print(countOccurences(str, word)) "
      ],
      "execution_count": 0,
      "outputs": [
        {
          "output_type": "stream",
          "text": [
            "2\n"
          ],
          "name": "stdout"
        }
      ]
    }
  ]
}