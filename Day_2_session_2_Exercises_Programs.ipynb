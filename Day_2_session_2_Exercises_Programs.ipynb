{
  "nbformat": 4,
  "nbformat_minor": 0,
  "metadata": {
    "colab": {
      "name": "Day 2 session 2 Exercises Programs.ipynb",
      "provenance": [],
      "collapsed_sections": [],
      "authorship_tag": "ABX9TyOYjWgIXTlYQylR2gVpE+QK",
      "include_colab_link": true
    },
    "kernelspec": {
      "name": "python3",
      "display_name": "Python 3"
    }
  },
  "cells": [
    {
      "cell_type": "markdown",
      "metadata": {
        "id": "view-in-github",
        "colab_type": "text"
      },
      "source": [
        "<a href=\"https://colab.research.google.com/github/lsindhungowda/Daily-report/blob/master/Day_2_session_2_Exercises_Programs.ipynb\" target=\"_parent\"><img src=\"https://colab.research.google.com/assets/colab-badge.svg\" alt=\"Open In Colab\"/></a>"
      ]
    },
    {
      "cell_type": "markdown",
      "metadata": {
        "id": "lndlBYC6c1wt",
        "colab_type": "text"
      },
      "source": [
        "Add rollno and marks {name:mark} for n number of students through keyboard in a dictionary and print the marks in descending order with respective name."
      ]
    },
    {
      "cell_type": "code",
      "metadata": {
        "id": "RlJ7z3AUccEr",
        "colab_type": "code",
        "outputId": "59c3e6c6-65c7-4c50-c928-694e2976d9b8",
        "colab": {
          "base_uri": "https://localhost:8080/",
          "height": 118
        }
      },
      "source": [
        "import operator\n",
        "d={}\n",
        "for i in range(int(input(\"Enter The Number Of Students: \"))):\n",
        "  n=input(f\"Enter The Name Of Student-{i+1}: \")\n",
        "  d[n]=int(input(f\"Enter The Marks Of Student-{i+1}: \"))\n",
        "print(dict(sorted(d.items(), key=operator.itemgetter(1), reverse=True)))\n",
        "\n"
      ],
      "execution_count": 0,
      "outputs": [
        {
          "output_type": "stream",
          "text": [
            "Enter The Number Of Students: 2\n",
            "Enter The Name Of Student-1: Shwetha\n",
            "Enter The Marks Of Student-1: 99\n",
            "Enter The Name Of Student-2: Sindhu\n",
            "Enter The Marks Of Student-2: 98\n",
            "{'Shwetha': 99, 'Sindhu': 98}\n"
          ],
          "name": "stdout"
        }
      ]
    },
    {
      "cell_type": "markdown",
      "metadata": {
        "id": "NrKwtGwBdPBx",
        "colab_type": "text"
      },
      "source": [
        "Add  name and salary {name:salary} for n number of employees through keyboard in a dictionary and print them in name alphabetical order with salary\n",
        "\n",
        "\n"
      ]
    },
    {
      "cell_type": "code",
      "metadata": {
        "id": "xn9__qHadZxd",
        "colab_type": "code",
        "outputId": "2ec1ff09-2240-43ed-fca2-11187a010d5e",
        "colab": {
          "base_uri": "https://localhost:8080/",
          "height": 151
        }
      },
      "source": [
        "import operator\n",
        "d={}\n",
        "for i in range(int(input(\"Enter The Number Of Students: \"))):\n",
        "  n=input(f\"Enter The Name Of Employee-{i+1}: \")\n",
        "  d[n]=int(input(f\"Enter The Salary Of Employee-{i+1}: \"))\n",
        "print(dict(sorted(d.items(), key=operator.itemgetter(0))))"
      ],
      "execution_count": 0,
      "outputs": [
        {
          "output_type": "stream",
          "text": [
            "Enter The Number Of Students: 3\n",
            "Enter The Name Of Employee-1: Shwetha\n",
            "Enter The Salary Of Employee-1: 50000\n",
            "Enter The Name Of Employee-2: Sindhu\n",
            "Enter The Salary Of Employee-2: 40000\n",
            "Enter The Name Of Employee-3: Bhuvi\n",
            "Enter The Salary Of Employee-3: 30000\n",
            "{'Bhuvi': 30000, 'Shwetha': 50000, 'Sindhu': 40000}\n"
          ],
          "name": "stdout"
        }
      ]
    },
    {
      "cell_type": "markdown",
      "metadata": {
        "id": "zWLnE3etdx8o",
        "colab_type": "text"
      },
      "source": [
        "Add  name and salary {name:salary} for n number of employees through keyboard in a dictionary and print them in salary  ascending order and  sum, max, min and average of the salaries"
      ]
    },
    {
      "cell_type": "code",
      "metadata": {
        "id": "sS25sjAqd1dW",
        "colab_type": "code",
        "outputId": "9880831b-eb0b-4af1-e514-ba1e35e93d14",
        "colab": {
          "base_uri": "https://localhost:8080/",
          "height": 218
        }
      },
      "source": [
        "import operator\n",
        "d={}\n",
        "for i in range(int(input(\"Enter The Number Of Students: \"))):\n",
        "  n=input(f\"Enter The Name Of Employee-{i+1}: \")\n",
        "  d[n]=int(input(f\"Enter The Salary Of Employee-{i+1}: \"))\n",
        "print(dict(sorted(d.items(), key=operator.itemgetter(1))))\n",
        "print(f\"Sum: {sum(d.values())}\\nMax: {max(d.values())}\\nMin: {min(d.values())}\\nAverage: {sum(d.values())/len(d)}\")\n"
      ],
      "execution_count": 0,
      "outputs": [
        {
          "output_type": "stream",
          "text": [
            "Enter The Number Of Students: 3\n",
            "Enter The Name Of Employee-1: Shwetha\n",
            "Enter The Salary Of Employee-1: 90000\n",
            "Enter The Name Of Employee-2: khadri\n",
            "Enter The Salary Of Employee-2: 80000\n",
            "Enter The Name Of Employee-3: kushala\n",
            "Enter The Salary Of Employee-3: 70000\n",
            "{'kushala': 70000, 'khadri': 80000, 'Shwetha': 90000}\n",
            "Sum: 240000\n",
            "Max: 90000\n",
            "Min: 70000\n",
            "Average: 80000.0\n"
          ],
          "name": "stdout"
        }
      ]
    },
    {
      "cell_type": "markdown",
      "metadata": {
        "id": "NOSvBYxVeH2u",
        "colab_type": "text"
      },
      "source": [
        "Add name and salary {name:salary} for n number of employees through keyboard in a dictionary and print only the employees whose salary is greater than 2000 but less than 4000"
      ]
    },
    {
      "cell_type": "code",
      "metadata": {
        "id": "Pl4ObbgNeNSy",
        "colab_type": "code",
        "outputId": "104096c7-ca25-4c5b-ae7d-a7c61d31fa70",
        "colab": {
          "base_uri": "https://localhost:8080/",
          "height": 151
        }
      },
      "source": [
        "d={}\n",
        "for i in range(int(input(\"Enter The Number Of Students: \"))):\n",
        "  n=input(f\"Enter The Name Of Employee-{i+1}: \")\n",
        "  d[n]=int(input(f\"Enter The Salary Of Employee-{i+1}: \"))\n",
        "print(dict([(k,v) for k,v in d.items() if 2000<v<4000]))"
      ],
      "execution_count": 0,
      "outputs": [
        {
          "output_type": "stream",
          "text": [
            "Enter The Number Of Students: 3\n",
            "Enter The Name Of Employee-1: kishore\n",
            "Enter The Salary Of Employee-1: 3500\n",
            "Enter The Name Of Employee-2: kushal\n",
            "Enter The Salary Of Employee-2: 3000\n",
            "Enter The Name Of Employee-3: Kishu\n",
            "Enter The Salary Of Employee-3: 4000\n",
            "{'kishore': 3500, 'kushal': 3000}\n"
          ],
          "name": "stdout"
        }
      ]
    },
    {
      "cell_type": "markdown",
      "metadata": {
        "id": "iuVb5zMKew6R",
        "colab_type": "text"
      },
      "source": [
        "Python program to convert a 3 digit number  into words\n",
        "\n"
      ]
    },
    {
      "cell_type": "code",
      "metadata": {
        "id": "wGSejXsUe1lh",
        "colab_type": "code",
        "outputId": "9e7d42bf-d796-4517-bc4e-fa6864522275",
        "colab": {
          "base_uri": "https://localhost:8080/",
          "height": 50
        }
      },
      "source": [
        "d={0:'',1:'one',2:'two',3:'three',4:'four',5:'five',6:'six',7:'seven',8:'eight',9:'nine',\\\n",
        "   10:'ten',11:'eleven',12:'twelve',13:'thirteen',14:'fourteen',15:'fifteen',16:'sixteen',\\\n",
        "   17:'seventeen',18:'eightteen',19:'nineteen',20:'twenty',30:'thirty',40:'fourty',50:'fifty',\\\n",
        "   60:'sixty',70:'seventy',80:'eighty',90:'ninty',100:'One hundred',200:'Two hundred',300:'three hundred',400:'four hundred',500:'five hundred',600:'six hundred',700:'seven hundred',800:'eight hundred',900:'nine hundred'}\n",
        "num=int(input(\"Enter the integer between 100 to 999:\"))\n",
        "print(f\"{d[num//100*100]} {d[((num//10)%10)*10]} {d[num%10]}\")"
      ],
      "execution_count": 0,
      "outputs": [
        {
          "output_type": "stream",
          "text": [
            "Enter the integer between 100 to 999:888\n",
            "eight hundred eighty eight\n"
          ],
          "name": "stdout"
        }
      ]
    },
    {
      "cell_type": "markdown",
      "metadata": {
        "id": "xqJjXCrsfO1d",
        "colab_type": "text"
      },
      "source": [
        "Python Program to count the total number of charaters (except blank space) in a text file."
      ]
    },
    {
      "cell_type": "code",
      "metadata": {
        "id": "EpETazsMf4e8",
        "colab_type": "code",
        "outputId": "fb49b7ac-eca2-410e-ce19-5c3a02defe85",
        "colab": {
          "base_uri": "https://localhost:8080/",
          "height": 34
        }
      },
      "source": [
        "f=open(\"/shw.txt\",\"r\")\n",
        "t=f.read()\n",
        "c=0\n",
        "for i in t:\n",
        "  if(i!=\" \" and i!='\\n'):\n",
        "    c+=1\n",
        "print(c)\n"
      ],
      "execution_count": 0,
      "outputs": [
        {
          "output_type": "stream",
          "text": [
            "2\n"
          ],
          "name": "stdout"
        }
      ]
    },
    {
      "cell_type": "markdown",
      "metadata": {
        "id": "uztdYUaBhHAm",
        "colab_type": "text"
      },
      "source": [
        "Python Program to print all the numbers present in a text file with its total number of occurrence."
      ]
    },
    {
      "cell_type": "code",
      "metadata": {
        "id": "AyZYL_D2hLme",
        "colab_type": "code",
        "outputId": "e7c2a56b-9c46-4234-9e68-60b7ceb32fa5",
        "colab": {
          "base_uri": "https://localhost:8080/",
          "height": 84
        }
      },
      "source": [
        "file_txt = open(\"/khadri.txt\",\"r\")\t\t\n",
        "text = file_txt.read()\t\n",
        "w = []\t\n",
        "d = dict() \n",
        "for line in text: \n",
        "    line = line.strip() \t\n",
        "    if(line.isdigit()):\n",
        "           w.append(line)\n",
        "for j in w:\n",
        "      if j in d:\n",
        "        d[j] = d[j] + 1\n",
        "      else: \n",
        "            d[j] = 1 \n",
        "for key in list(d.keys()): \n",
        "    print(key, \":\", d[key])"
      ],
      "execution_count": 0,
      "outputs": [
        {
          "output_type": "stream",
          "text": [
            "1 : 1\n",
            "2 : 1\n",
            "3 : 1\n",
            "4 : 2\n"
          ],
          "name": "stdout"
        }
      ]
    },
    {
      "cell_type": "markdown",
      "metadata": {
        "id": "KbDdw0GahMPG",
        "colab_type": "text"
      },
      "source": [
        "Python Program to append the contents of one file to another file by getting the both file names through keyboard . "
      ]
    },
    {
      "cell_type": "code",
      "metadata": {
        "id": "gmlnoEPlhPb_",
        "colab_type": "code",
        "outputId": "a8f86ebd-ee75-440a-9518-31e7a5d610a6",
        "colab": {
          "base_uri": "https://localhost:8080/",
          "height": 50
        }
      },
      "source": [
        "name1 = input(\"Enter file to be read from: \")\n",
        "name2 = input(\"Enter file to be appended to: \")\n",
        "fin = open(name1, \"r\")\n",
        "data2 = fin.read()\n",
        "fin.close()\n",
        "fout = open(name2, \"a\")\n",
        "fout.write(data2)\n",
        "fout.close()"
      ],
      "execution_count": 0,
      "outputs": [
        {
          "output_type": "stream",
          "text": [
            "Enter file to be read from: shw.txt\n",
            "Enter file to be appended to: khadri.txt\n"
          ],
          "name": "stdout"
        }
      ]
    },
    {
      "cell_type": "markdown",
      "metadata": {
        "id": "NXMOjvuhhRyf",
        "colab_type": "text"
      },
      "source": [
        "Python Program to count the number of blank spaces in a text file. "
      ]
    },
    {
      "cell_type": "code",
      "metadata": {
        "id": "18ghH2I9hTIT",
        "colab_type": "code",
        "outputId": "9748063a-bf55-4073-8a6a-0020ff9714db",
        "colab": {
          "base_uri": "https://localhost:8080/",
          "height": 34
        }
      },
      "source": [
        "file_txt = open(\"/shwetha.txt\",\"r\")\t\t\n",
        "text = file_txt.read()\t\t\t\n",
        "charc = 0\t\n",
        "for i in text:\t\t\t\t\n",
        "\tif(i == \" \"):\n",
        "\t\t charc += 1\n",
        " \n",
        "print (\"total num of spaces: \",charc);"
      ],
      "execution_count": 0,
      "outputs": [
        {
          "output_type": "stream",
          "text": [
            "total num of spaces:  2\n"
          ],
          "name": "stdout"
        }
      ]
    },
    {
      "cell_type": "markdown",
      "metadata": {
        "id": "s3l-fzz4hVkF",
        "colab_type": "text"
      },
      "source": [
        "Python Program to read a file and capitalize the first letter of every word in the file and copy the every word capitalized content  into another file and read it ."
      ]
    },
    {
      "cell_type": "code",
      "metadata": {
        "id": "-0BI3_HthXYG",
        "colab_type": "code",
        "outputId": "d40902e3-e1fe-4c10-a8a8-155fbd7c480d",
        "colab": {
          "base_uri": "https://localhost:8080/",
          "height": 34
        }
      },
      "source": [
        "with open('/shwetha.txt', 'r') as f:\n",
        "  with open(\"shw.txt\", \"w\") as f1:\n",
        "    for line in f:\n",
        "        l=line.title()\n",
        "        f1.write(l)\n",
        "file2=open(\"khadri.txt\",'r')\n",
        "line=file2.readline()\n",
        "while(line!=\"\"):\n",
        "    print(line)\n",
        "    line=file2.readline()\n",
        "file2.close()"
      ],
      "execution_count": 0,
      "outputs": [
        {
          "output_type": "stream",
          "text": [
            "Shwetha Khadri Tumkur\n"
          ],
          "name": "stdout"
        }
      ]
    }
  ]
}