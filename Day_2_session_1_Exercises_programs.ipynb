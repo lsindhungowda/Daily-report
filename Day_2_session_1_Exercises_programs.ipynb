{
  "nbformat": 4,
  "nbformat_minor": 0,
  "metadata": {
    "colab": {
      "name": "Day 2 session 1 Exercises programs.ipynb",
      "provenance": [],
      "collapsed_sections": [],
      "authorship_tag": "ABX9TyNBk/EzDzzsRDxXwz6oP/Yg",
      "include_colab_link": true
    },
    "kernelspec": {
      "name": "python3",
      "display_name": "Python 3"
    }
  },
  "cells": [
    {
      "cell_type": "markdown",
      "metadata": {
        "id": "view-in-github",
        "colab_type": "text"
      },
      "source": [
        "<a href=\"https://colab.research.google.com/github/lsindhungowda/Daily-report/blob/master/Day_2_session_1_Exercises_programs.ipynb\" target=\"_parent\"><img src=\"https://colab.research.google.com/assets/colab-badge.svg\" alt=\"Open In Colab\"/></a>"
      ]
    },
    {
      "cell_type": "markdown",
      "metadata": {
        "id": "d7EotbFYPdZy",
        "colab_type": "text"
      },
      "source": [
        "print multiples of 3 upto 200 using a list"
      ]
    },
    {
      "cell_type": "code",
      "metadata": {
        "id": "wb3XSzzGPc_v",
        "colab_type": "code",
        "outputId": "cf8f1375-9dcd-4fa2-c7b8-a69057dd3935",
        "colab": {
          "base_uri": "https://localhost:8080/",
          "height": 54
        }
      },
      "source": [
        "print([i for i in range(1,200) if i%3==0])"
      ],
      "execution_count": 0,
      "outputs": [
        {
          "output_type": "stream",
          "text": [
            "[3, 6, 9, 12, 15, 18, 21, 24, 27, 30, 33, 36, 39, 42, 45, 48, 51, 54, 57, 60, 63, 66, 69, 72, 75, 78, 81, 84, 87, 90, 93, 96, 99, 102, 105, 108, 111, 114, 117, 120, 123, 126, 129, 132, 135, 138, 141, 144, 147, 150, 153, 156, 159, 162, 165, 168, 171, 174, 177, 180, 183, 186, 189, 192, 195, 198]\n"
          ],
          "name": "stdout"
        }
      ]
    },
    {
      "cell_type": "markdown",
      "metadata": {
        "id": "h6MYFiERP-3F",
        "colab_type": "text"
      },
      "source": [
        "print the nos only divisable by 5 and 7 between 1000 and 2000 using a list( both inclusive)\n",
        "\n",
        "\n",
        "\n"
      ]
    },
    {
      "cell_type": "code",
      "metadata": {
        "id": "kbhUfmMUQDCQ",
        "colab_type": "code",
        "outputId": "ad357a80-85f9-4f1c-a033-d521fd5d3eeb",
        "colab": {
          "base_uri": "https://localhost:8080/",
          "height": 34
        }
      },
      "source": [
        "print([i for i in range(1000,2001) if i%5==0 and i%7==0])\n"
      ],
      "execution_count": 0,
      "outputs": [
        {
          "output_type": "stream",
          "text": [
            "[1015, 1050, 1085, 1120, 1155, 1190, 1225, 1260, 1295, 1330, 1365, 1400, 1435, 1470, 1505, 1540, 1575, 1610, 1645, 1680, 1715, 1750, 1785, 1820, 1855, 1890, 1925, 1960, 1995]\n"
          ],
          "name": "stdout"
        }
      ]
    },
    {
      "cell_type": "markdown",
      "metadata": {
        "id": "qh7u0ry5QWNq",
        "colab_type": "text"
      },
      "source": [
        "Add the n number of names in a list and print them alphabetically and reverse alphabetically."
      ]
    },
    {
      "cell_type": "code",
      "metadata": {
        "id": "SaTwxiZVQZ45",
        "colab_type": "code",
        "outputId": "daa08174-0358-4d11-fcbf-8f7b3d397826",
        "colab": {
          "base_uri": "https://localhost:8080/",
          "height": 134
        }
      },
      "source": [
        "a=[input() for i in range(int(input(\"Enter The N Value: \")))]\n",
        "a.sort()\n",
        "print(a)\n",
        "print(a[-1::-1])"
      ],
      "execution_count": 0,
      "outputs": [
        {
          "output_type": "stream",
          "text": [
            "Enter The N Value: 4\n",
            "Shwetha\n",
            "Khadri\n",
            "Alvas\n",
            "mijar\n",
            "['Alvas', 'Khadri', 'Shwetha', 'mijar']\n",
            "['mijar', 'Shwetha', 'Khadri', 'Alvas']\n"
          ],
          "name": "stdout"
        }
      ]
    },
    {
      "cell_type": "markdown",
      "metadata": {
        "id": "ivvldGbXQdOD",
        "colab_type": "text"
      },
      "source": [
        "Print  perfect squares and divisible by 5 between 500 and 1000( (both inclusive) using list\n",
        "\n"
      ]
    },
    {
      "cell_type": "code",
      "metadata": {
        "id": "zHekk2NfQe-B",
        "colab_type": "code",
        "outputId": "104aadc0-a3d0-46ab-a094-9dff340e534d",
        "colab": {
          "base_uri": "https://localhost:8080/",
          "height": 34
        }
      },
      "source": [
        "import math\n",
        "print([i for i in range(500,1001) if math.sqrt(i)==int(math.sqrt(i)) and i%5==0])"
      ],
      "execution_count": 0,
      "outputs": [
        {
          "output_type": "stream",
          "text": [
            "[625, 900]\n"
          ],
          "name": "stdout"
        }
      ]
    },
    {
      "cell_type": "markdown",
      "metadata": {
        "id": "6DPEDlnEQhrj",
        "colab_type": "text"
      },
      "source": [
        "Get  a string and store word by word as elements in a tuple and find the largest word in the  tuple and print it"
      ]
    },
    {
      "cell_type": "code",
      "metadata": {
        "id": "UrGvoqvoQi3Z",
        "colab_type": "code",
        "outputId": "60a56f34-b891-4edb-9626-c52b6cb36c2f",
        "colab": {
          "base_uri": "https://localhost:8080/",
          "height": 67
        }
      },
      "source": [
        "s=input(\"Enter The String: \")\n",
        "a=s.split(\" \")\n",
        "print(tuple(a))\n",
        "print(max(tuple(a)))"
      ],
      "execution_count": 0,
      "outputs": [
        {
          "output_type": "stream",
          "text": [
            "Enter The String: Shwetha Khadri\n",
            "('Shwetha', 'Khadri')\n",
            "Shwetha\n"
          ],
          "name": "stdout"
        }
      ]
    },
    {
      "cell_type": "markdown",
      "metadata": {
        "id": "4Pj5by-XQj8a",
        "colab_type": "text"
      },
      "source": [
        "Get rollno and marks (Rollno, mark) as list of tuples for n number of students through keyboard  and print them in marks descending order with rollno."
      ]
    },
    {
      "cell_type": "code",
      "metadata": {
        "id": "_t81VYZNQnCA",
        "colab_type": "code",
        "outputId": "5ce72a8a-5467-482e-bcce-efbc332fbbd7",
        "colab": {
          "base_uri": "https://localhost:8080/",
          "height": 185
        }
      },
      "source": [
        "import operator\n",
        "d={}\n",
        "for i in range(int(input(\"Enter The Number Of Students: \"))):\n",
        "  n=input(f\"Enter The Roll Number Of Student-{i+1}: \")\n",
        "  d[n]=int(input(f\"Enter The Marks Of Student-{i+1}: \"))\n",
        "print(list(sorted(d.items(), key=operator.itemgetter(1), reverse=True)))\n"
      ],
      "execution_count": 0,
      "outputs": [
        {
          "output_type": "stream",
          "text": [
            "Enter The Number Of Students: 4\n",
            "Enter The Roll Number Of Student-1: 11\n",
            "Enter The Marks Of Student-1: 98\n",
            "Enter The Roll Number Of Student-2: 12\n",
            "Enter The Marks Of Student-2: 99\n",
            "Enter The Roll Number Of Student-3: 13\n",
            "Enter The Marks Of Student-3: 97\n",
            "Enter The Roll Number Of Student-4: 14\n",
            "Enter The Marks Of Student-4: 96\n",
            "[('12', 99), ('11', 98), ('13', 97), ('14', 96)]\n"
          ],
          "name": "stdout"
        }
      ]
    },
    {
      "cell_type": "markdown",
      "metadata": {
        "id": "a2zbURVuQnzN",
        "colab_type": "text"
      },
      "source": [
        "Get name and salary (name, salary) as list of tuples for n number of employees through keyboard  and print them in name alphabetical order with salary\n",
        "\n"
      ]
    },
    {
      "cell_type": "code",
      "metadata": {
        "id": "2LmCnuvOQqjc",
        "colab_type": "code",
        "outputId": "3f790fe1-21cf-474d-b36b-ae95ee50c504",
        "colab": {
          "base_uri": "https://localhost:8080/",
          "height": 151
        }
      },
      "source": [
        "import operator\n",
        "d={}\n",
        "for i in range(int(input(\"Enter The Number Of Students: \"))):\n",
        "  n=input(f\"Enter The Name Of Employee-{i+1}: \")\n",
        "  d[n]=int(input(f\"Enter The Salary Of Employee-{i+1}: \"))\n",
        "print(list(sorted(d.items(), key=operator.itemgetter(0))))"
      ],
      "execution_count": 0,
      "outputs": [
        {
          "output_type": "stream",
          "text": [
            "Enter The Number Of Students: 3\n",
            "Enter The Name Of Employee-1: Shwetha\n",
            "Enter The Salary Of Employee-1: 100000\n",
            "Enter The Name Of Employee-2: Sindhu\n",
            "Enter The Salary Of Employee-2: 50000\n",
            "Enter The Name Of Employee-3: Likhitha\n",
            "Enter The Salary Of Employee-3: 60000\n",
            "[('Likhitha', 60000), ('Shwetha', 100000), ('Sindhu', 50000)]\n"
          ],
          "name": "stdout"
        }
      ]
    }
  ]
}